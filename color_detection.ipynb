{
  "nbformat": 4,
  "nbformat_minor": 0,
  "metadata": {
    "colab": {
      "provenance": []
    },
    "kernelspec": {
      "name": "python3",
      "display_name": "Python 3"
    },
    "language_info": {
      "name": "python"
    }
  },
  "cells": [
    {
      "cell_type": "code",
      "execution_count": null,
      "metadata": {
        "id": "sHM2XP4TQykO"
      },
      "outputs": [],
      "source": [
        "import cv2\n",
        "import numpy as np"
      ]
    },
    {
      "cell_type": "code",
      "source": [
        "lower=np.array([15,150,20])\n",
        "upper=np.array([35,255,255])\n",
        "cap=cv2.VideoCapture(0)"
      ],
      "metadata": {
        "id": "lfSpMUKNQ3uH"
      },
      "execution_count": null,
      "outputs": []
    },
    {
      "cell_type": "code",
      "source": [
        "while True:\n",
        "    ret, frame=cap.read()\n",
        "\n",
        "    hsvimg= cv2.cvtColor(frame,cv2.COLOR_BGR2HSV)\n",
        "\n",
        "    #ll,ul = get_limits(color=red)\n",
        "    mask=cv2.inRange(hsvimg,lower,upper)\n",
        "\n",
        "    #mask_=Image.fromarray(mask)\n",
        "    #bbox=mask_.getbbox()\n",
        "\n",
        "    #if bbox is not None:\n",
        "       # x1,y1,x2,y2=bbox\n",
        "\n",
        "        #cv2.rectangle(frame,(x1,y1),(x2,y2),(0,255,0),5)\n",
        "\n",
        "   # print(bbox)\n",
        "\n",
        "    cv2.imshow('frame', frame)\n",
        "    cv2.imshow('mask',mask)\n",
        "\n",
        "    if(cv2.waitKey(1) & 0xFF ==ord('q')):\n",
        "        break"
      ],
      "metadata": {
        "id": "1L45bUuzQ7uZ"
      },
      "execution_count": null,
      "outputs": []
    },
    {
      "cell_type": "code",
      "source": [
        "cap.release()\n",
        "\n",
        "cv2.destroyAllWindows()"
      ],
      "metadata": {
        "id": "p2XFsOJdRBwd"
      },
      "execution_count": null,
      "outputs": []
    }
  ]
}